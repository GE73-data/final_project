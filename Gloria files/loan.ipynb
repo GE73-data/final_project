{
 "cells": [
  {
   "cell_type": "code",
   "execution_count": 1,
   "metadata": {},
   "outputs": [],
   "source": [
    "import re\n",
    "import os\n",
    "\n",
    "import pandas as pd\n",
    "import numpy as np\n",
    "import seaborn as sns\n",
    "import matplotlib.pyplot as plt\n",
    "import datetime as dt"
   ]
  },
  {
   "cell_type": "code",
   "execution_count": 2,
   "metadata": {},
   "outputs": [],
   "source": [
    "accept_file_path = \"Data/accepted_2007_to_2018Q4.csv\""
   ]
  },
  {
   "cell_type": "code",
   "execution_count": 3,
   "metadata": {},
   "outputs": [
    {
     "name": "stderr",
     "output_type": "stream",
     "text": [
      "C:\\Users\\glori\\anaconda3\\lib\\site-packages\\IPython\\core\\interactiveshell.py:3146: DtypeWarning: Columns (0,19,49,59,118,129,130,131,134,135,136,139,145,146,147) have mixed types.Specify dtype option on import or set low_memory=False.\n",
      "  has_raised = await self.run_ast_nodes(code_ast.body, cell_name,\n"
     ]
    }
   ],
   "source": [
    "#reading accept csv file\n",
    "accept_df = pd.read_csv(accept_file_path)"
   ]
  },
  {
   "cell_type": "code",
   "execution_count": 4,
   "metadata": {},
   "outputs": [],
   "source": [
    "reject_file_path = \"Data/rejected_2007_to_2018Q4.csv\""
   ]
  },
  {
   "cell_type": "code",
   "execution_count": 5,
   "metadata": {},
   "outputs": [],
   "source": [
    "#reading reject csv file\n",
    "reject_df = pd.read_csv(reject_file_path)"
   ]
  },
  {
   "cell_type": "code",
   "execution_count": 6,
   "metadata": {},
   "outputs": [
    {
     "data": {
      "text/plain": [
       "['id',\n",
       " 'member_id',\n",
       " 'loan_amnt',\n",
       " 'funded_amnt',\n",
       " 'funded_amnt_inv',\n",
       " 'term',\n",
       " 'int_rate',\n",
       " 'installment',\n",
       " 'grade',\n",
       " 'sub_grade',\n",
       " 'emp_title',\n",
       " 'emp_length',\n",
       " 'home_ownership',\n",
       " 'annual_inc',\n",
       " 'verification_status',\n",
       " 'issue_d',\n",
       " 'loan_status',\n",
       " 'pymnt_plan',\n",
       " 'url',\n",
       " 'desc',\n",
       " 'purpose',\n",
       " 'title',\n",
       " 'zip_code',\n",
       " 'addr_state',\n",
       " 'dti',\n",
       " 'delinq_2yrs',\n",
       " 'earliest_cr_line',\n",
       " 'fico_range_low',\n",
       " 'fico_range_high',\n",
       " 'inq_last_6mths',\n",
       " 'mths_since_last_delinq',\n",
       " 'mths_since_last_record',\n",
       " 'open_acc',\n",
       " 'pub_rec',\n",
       " 'revol_bal',\n",
       " 'revol_util',\n",
       " 'total_acc',\n",
       " 'initial_list_status',\n",
       " 'out_prncp',\n",
       " 'out_prncp_inv',\n",
       " 'total_pymnt',\n",
       " 'total_pymnt_inv',\n",
       " 'total_rec_prncp',\n",
       " 'total_rec_int',\n",
       " 'total_rec_late_fee',\n",
       " 'recoveries',\n",
       " 'collection_recovery_fee',\n",
       " 'last_pymnt_d',\n",
       " 'last_pymnt_amnt',\n",
       " 'next_pymnt_d',\n",
       " 'last_credit_pull_d',\n",
       " 'last_fico_range_high',\n",
       " 'last_fico_range_low',\n",
       " 'collections_12_mths_ex_med',\n",
       " 'mths_since_last_major_derog',\n",
       " 'policy_code',\n",
       " 'application_type',\n",
       " 'annual_inc_joint',\n",
       " 'dti_joint',\n",
       " 'verification_status_joint',\n",
       " 'acc_now_delinq',\n",
       " 'tot_coll_amt',\n",
       " 'tot_cur_bal',\n",
       " 'open_acc_6m',\n",
       " 'open_act_il',\n",
       " 'open_il_12m',\n",
       " 'open_il_24m',\n",
       " 'mths_since_rcnt_il',\n",
       " 'total_bal_il',\n",
       " 'il_util',\n",
       " 'open_rv_12m',\n",
       " 'open_rv_24m',\n",
       " 'max_bal_bc',\n",
       " 'all_util',\n",
       " 'total_rev_hi_lim',\n",
       " 'inq_fi',\n",
       " 'total_cu_tl',\n",
       " 'inq_last_12m',\n",
       " 'acc_open_past_24mths',\n",
       " 'avg_cur_bal',\n",
       " 'bc_open_to_buy',\n",
       " 'bc_util',\n",
       " 'chargeoff_within_12_mths',\n",
       " 'delinq_amnt',\n",
       " 'mo_sin_old_il_acct',\n",
       " 'mo_sin_old_rev_tl_op',\n",
       " 'mo_sin_rcnt_rev_tl_op',\n",
       " 'mo_sin_rcnt_tl',\n",
       " 'mort_acc',\n",
       " 'mths_since_recent_bc',\n",
       " 'mths_since_recent_bc_dlq',\n",
       " 'mths_since_recent_inq',\n",
       " 'mths_since_recent_revol_delinq',\n",
       " 'num_accts_ever_120_pd',\n",
       " 'num_actv_bc_tl',\n",
       " 'num_actv_rev_tl',\n",
       " 'num_bc_sats',\n",
       " 'num_bc_tl',\n",
       " 'num_il_tl',\n",
       " 'num_op_rev_tl',\n",
       " 'num_rev_accts',\n",
       " 'num_rev_tl_bal_gt_0',\n",
       " 'num_sats',\n",
       " 'num_tl_120dpd_2m',\n",
       " 'num_tl_30dpd',\n",
       " 'num_tl_90g_dpd_24m',\n",
       " 'num_tl_op_past_12m',\n",
       " 'pct_tl_nvr_dlq',\n",
       " 'percent_bc_gt_75',\n",
       " 'pub_rec_bankruptcies',\n",
       " 'tax_liens',\n",
       " 'tot_hi_cred_lim',\n",
       " 'total_bal_ex_mort',\n",
       " 'total_bc_limit',\n",
       " 'total_il_high_credit_limit',\n",
       " 'revol_bal_joint',\n",
       " 'sec_app_fico_range_low',\n",
       " 'sec_app_fico_range_high',\n",
       " 'sec_app_earliest_cr_line',\n",
       " 'sec_app_inq_last_6mths',\n",
       " 'sec_app_mort_acc',\n",
       " 'sec_app_open_acc',\n",
       " 'sec_app_revol_util',\n",
       " 'sec_app_open_act_il',\n",
       " 'sec_app_num_rev_accts',\n",
       " 'sec_app_chargeoff_within_12_mths',\n",
       " 'sec_app_collections_12_mths_ex_med',\n",
       " 'sec_app_mths_since_last_major_derog',\n",
       " 'hardship_flag',\n",
       " 'hardship_type',\n",
       " 'hardship_reason',\n",
       " 'hardship_status',\n",
       " 'deferral_term',\n",
       " 'hardship_amount',\n",
       " 'hardship_start_date',\n",
       " 'hardship_end_date',\n",
       " 'payment_plan_start_date',\n",
       " 'hardship_length',\n",
       " 'hardship_dpd',\n",
       " 'hardship_loan_status',\n",
       " 'orig_projected_additional_accrued_interest',\n",
       " 'hardship_payoff_balance_amount',\n",
       " 'hardship_last_payment_amount',\n",
       " 'disbursement_method',\n",
       " 'debt_settlement_flag',\n",
       " 'debt_settlement_flag_date',\n",
       " 'settlement_status',\n",
       " 'settlement_date',\n",
       " 'settlement_amount',\n",
       " 'settlement_percentage',\n",
       " 'settlement_term']"
      ]
     },
     "execution_count": 6,
     "metadata": {},
     "output_type": "execute_result"
    }
   ],
   "source": [
    "list(accept_df)"
   ]
  },
  {
   "cell_type": "code",
   "execution_count": 7,
   "metadata": {},
   "outputs": [
    {
     "data": {
      "text/plain": [
       "['Amount Requested',\n",
       " 'Application Date',\n",
       " 'Loan Title',\n",
       " 'Risk_Score',\n",
       " 'Debt-To-Income Ratio',\n",
       " 'Zip Code',\n",
       " 'State',\n",
       " 'Employment Length',\n",
       " 'Policy Code']"
      ]
     },
     "execution_count": 7,
     "metadata": {},
     "output_type": "execute_result"
    }
   ],
   "source": [
    "list(reject_df)"
   ]
  },
  {
   "cell_type": "code",
   "execution_count": 8,
   "metadata": {},
   "outputs": [
    {
     "name": "stdout",
     "output_type": "stream",
     "text": [
      "['Wedding Covered but No Honeymoon' 'Consolidating Debt'\n",
      " 'Want to consolidate my debt' ... 'dougie03' 'freeup'\n",
      " 'Business Advertising Loan']\n",
      "-------------------\n",
      "['debt_consolidation' 'small_business' 'home_improvement' 'major_purchase'\n",
      " 'credit_card' 'other' 'house' 'vacation' 'car' 'medical' 'moving'\n",
      " 'renewable_energy' 'wedding' 'educational' nan]\n",
      "-------------------\n",
      "['Debt consolidation' 'Business' nan ... 'takeitaway' 'Creditt Card Loan'\n",
      " 'debt reduction/hone updates']\n"
     ]
    }
   ],
   "source": [
    "print(reject_df['Loan Title'].unique())\n",
    "print('-------------------')\n",
    "print(accept_df['purpose'].unique())\n",
    "print('-------------------')\n",
    "print(accept_df['title'].unique())"
   ]
  },
  {
   "cell_type": "code",
   "execution_count": 9,
   "metadata": {},
   "outputs": [],
   "source": [
    "#needed columns from the accepted data\n",
    "clean_accept_df = accept_df[[\n",
    "    'loan_amnt',\n",
    "    'int_rate',\n",
    "    'issue_d',\n",
    "    'fico_range_high',\n",
    "    'dti',\n",
    "    'zip_code',\n",
    "    'addr_state',\n",
    "    'emp_length',\n",
    "    'purpose'\n",
    "]]"
   ]
  },
  {
   "cell_type": "code",
   "execution_count": 10,
   "metadata": {},
   "outputs": [],
   "source": [
    "#columns from the rejected data\n",
    "clean_reject_df = reject_df[['Amount Requested',\n",
    " 'Application Date',\n",
    " 'Risk_Score',\n",
    " 'Debt-To-Income Ratio',\n",
    " 'Zip Code',\n",
    " 'State',\n",
    " 'Employment Length',\n",
    " 'Loan Title']]"
   ]
  },
  {
   "cell_type": "code",
   "execution_count": 11,
   "metadata": {},
   "outputs": [
    {
     "data": {
      "text/plain": [
       "(2260701, 9)"
      ]
     },
     "execution_count": 11,
     "metadata": {},
     "output_type": "execute_result"
    }
   ],
   "source": [
    "clean_accept_df.shape"
   ]
  },
  {
   "cell_type": "code",
   "execution_count": 12,
   "metadata": {},
   "outputs": [
    {
     "data": {
      "text/plain": [
       "(27648741, 8)"
      ]
     },
     "execution_count": 12,
     "metadata": {},
     "output_type": "execute_result"
    }
   ],
   "source": [
    "clean_reject_df.shape"
   ]
  },
  {
   "cell_type": "code",
   "execution_count": 13,
   "metadata": {},
   "outputs": [
    {
     "name": "stderr",
     "output_type": "stream",
     "text": [
      "<ipython-input-13-841988178c2f>:2: SettingWithCopyWarning: \n",
      "A value is trying to be set on a copy of a slice from a DataFrame.\n",
      "Try using .loc[row_indexer,col_indexer] = value instead\n",
      "\n",
      "See the caveats in the documentation: https://pandas.pydata.org/pandas-docs/stable/user_guide/indexing.html#returning-a-view-versus-a-copy\n",
      "  clean_accept_df['Loan Status'] = \"Accepted\"\n"
     ]
    },
    {
     "data": {
      "text/html": [
       "<div>\n",
       "<style scoped>\n",
       "    .dataframe tbody tr th:only-of-type {\n",
       "        vertical-align: middle;\n",
       "    }\n",
       "\n",
       "    .dataframe tbody tr th {\n",
       "        vertical-align: top;\n",
       "    }\n",
       "\n",
       "    .dataframe thead th {\n",
       "        text-align: right;\n",
       "    }\n",
       "</style>\n",
       "<table border=\"1\" class=\"dataframe\">\n",
       "  <thead>\n",
       "    <tr style=\"text-align: right;\">\n",
       "      <th></th>\n",
       "      <th>loan_amnt</th>\n",
       "      <th>int_rate</th>\n",
       "      <th>issue_d</th>\n",
       "      <th>fico_range_high</th>\n",
       "      <th>dti</th>\n",
       "      <th>zip_code</th>\n",
       "      <th>addr_state</th>\n",
       "      <th>emp_length</th>\n",
       "      <th>purpose</th>\n",
       "      <th>Loan Status</th>\n",
       "    </tr>\n",
       "  </thead>\n",
       "  <tbody>\n",
       "    <tr>\n",
       "      <th>0</th>\n",
       "      <td>3600.0</td>\n",
       "      <td>13.99</td>\n",
       "      <td>Dec-2015</td>\n",
       "      <td>679.0</td>\n",
       "      <td>5.91</td>\n",
       "      <td>190xx</td>\n",
       "      <td>PA</td>\n",
       "      <td>10+ years</td>\n",
       "      <td>debt_consolidation</td>\n",
       "      <td>Accepted</td>\n",
       "    </tr>\n",
       "    <tr>\n",
       "      <th>1</th>\n",
       "      <td>24700.0</td>\n",
       "      <td>11.99</td>\n",
       "      <td>Dec-2015</td>\n",
       "      <td>719.0</td>\n",
       "      <td>16.06</td>\n",
       "      <td>577xx</td>\n",
       "      <td>SD</td>\n",
       "      <td>10+ years</td>\n",
       "      <td>small_business</td>\n",
       "      <td>Accepted</td>\n",
       "    </tr>\n",
       "    <tr>\n",
       "      <th>2</th>\n",
       "      <td>20000.0</td>\n",
       "      <td>10.78</td>\n",
       "      <td>Dec-2015</td>\n",
       "      <td>699.0</td>\n",
       "      <td>10.78</td>\n",
       "      <td>605xx</td>\n",
       "      <td>IL</td>\n",
       "      <td>10+ years</td>\n",
       "      <td>home_improvement</td>\n",
       "      <td>Accepted</td>\n",
       "    </tr>\n",
       "    <tr>\n",
       "      <th>3</th>\n",
       "      <td>35000.0</td>\n",
       "      <td>14.85</td>\n",
       "      <td>Dec-2015</td>\n",
       "      <td>789.0</td>\n",
       "      <td>17.06</td>\n",
       "      <td>076xx</td>\n",
       "      <td>NJ</td>\n",
       "      <td>10+ years</td>\n",
       "      <td>debt_consolidation</td>\n",
       "      <td>Accepted</td>\n",
       "    </tr>\n",
       "    <tr>\n",
       "      <th>4</th>\n",
       "      <td>10400.0</td>\n",
       "      <td>22.45</td>\n",
       "      <td>Dec-2015</td>\n",
       "      <td>699.0</td>\n",
       "      <td>25.37</td>\n",
       "      <td>174xx</td>\n",
       "      <td>PA</td>\n",
       "      <td>3 years</td>\n",
       "      <td>major_purchase</td>\n",
       "      <td>Accepted</td>\n",
       "    </tr>\n",
       "  </tbody>\n",
       "</table>\n",
       "</div>"
      ],
      "text/plain": [
       "   loan_amnt  int_rate   issue_d  fico_range_high    dti zip_code addr_state  \\\n",
       "0     3600.0     13.99  Dec-2015            679.0   5.91    190xx         PA   \n",
       "1    24700.0     11.99  Dec-2015            719.0  16.06    577xx         SD   \n",
       "2    20000.0     10.78  Dec-2015            699.0  10.78    605xx         IL   \n",
       "3    35000.0     14.85  Dec-2015            789.0  17.06    076xx         NJ   \n",
       "4    10400.0     22.45  Dec-2015            699.0  25.37    174xx         PA   \n",
       "\n",
       "  emp_length             purpose Loan Status  \n",
       "0  10+ years  debt_consolidation    Accepted  \n",
       "1  10+ years      small_business    Accepted  \n",
       "2  10+ years    home_improvement    Accepted  \n",
       "3  10+ years  debt_consolidation    Accepted  \n",
       "4    3 years      major_purchase    Accepted  "
      ]
     },
     "execution_count": 13,
     "metadata": {},
     "output_type": "execute_result"
    }
   ],
   "source": [
    "#added target value to the accepted data\n",
    "clean_accept_df['Loan Status'] = \"Accepted\"\n",
    "clean_accept_df.head()"
   ]
  },
  {
   "cell_type": "code",
   "execution_count": 14,
   "metadata": {},
   "outputs": [
    {
     "data": {
      "text/html": [
       "<div>\n",
       "<style scoped>\n",
       "    .dataframe tbody tr th:only-of-type {\n",
       "        vertical-align: middle;\n",
       "    }\n",
       "\n",
       "    .dataframe tbody tr th {\n",
       "        vertical-align: top;\n",
       "    }\n",
       "\n",
       "    .dataframe thead th {\n",
       "        text-align: right;\n",
       "    }\n",
       "</style>\n",
       "<table border=\"1\" class=\"dataframe\">\n",
       "  <thead>\n",
       "    <tr style=\"text-align: right;\">\n",
       "      <th></th>\n",
       "      <th>Amount Requested</th>\n",
       "      <th>Application Date</th>\n",
       "      <th>Risk_Score</th>\n",
       "      <th>Debt-To-Income Ratio</th>\n",
       "      <th>Zip Code</th>\n",
       "      <th>State</th>\n",
       "      <th>Employment Length</th>\n",
       "      <th>Loan Title</th>\n",
       "      <th>Loan Status</th>\n",
       "    </tr>\n",
       "  </thead>\n",
       "  <tbody>\n",
       "    <tr>\n",
       "      <th>0</th>\n",
       "      <td>1000.0</td>\n",
       "      <td>2007-05-26</td>\n",
       "      <td>693.0</td>\n",
       "      <td>10%</td>\n",
       "      <td>481xx</td>\n",
       "      <td>NM</td>\n",
       "      <td>4 years</td>\n",
       "      <td>Wedding Covered but No Honeymoon</td>\n",
       "      <td>Rejected</td>\n",
       "    </tr>\n",
       "    <tr>\n",
       "      <th>1</th>\n",
       "      <td>1000.0</td>\n",
       "      <td>2007-05-26</td>\n",
       "      <td>703.0</td>\n",
       "      <td>10%</td>\n",
       "      <td>010xx</td>\n",
       "      <td>MA</td>\n",
       "      <td>&lt; 1 year</td>\n",
       "      <td>Consolidating Debt</td>\n",
       "      <td>Rejected</td>\n",
       "    </tr>\n",
       "    <tr>\n",
       "      <th>2</th>\n",
       "      <td>11000.0</td>\n",
       "      <td>2007-05-27</td>\n",
       "      <td>715.0</td>\n",
       "      <td>10%</td>\n",
       "      <td>212xx</td>\n",
       "      <td>MD</td>\n",
       "      <td>1 year</td>\n",
       "      <td>Want to consolidate my debt</td>\n",
       "      <td>Rejected</td>\n",
       "    </tr>\n",
       "    <tr>\n",
       "      <th>3</th>\n",
       "      <td>6000.0</td>\n",
       "      <td>2007-05-27</td>\n",
       "      <td>698.0</td>\n",
       "      <td>38.64%</td>\n",
       "      <td>017xx</td>\n",
       "      <td>MA</td>\n",
       "      <td>&lt; 1 year</td>\n",
       "      <td>waksman</td>\n",
       "      <td>Rejected</td>\n",
       "    </tr>\n",
       "    <tr>\n",
       "      <th>4</th>\n",
       "      <td>1500.0</td>\n",
       "      <td>2007-05-27</td>\n",
       "      <td>509.0</td>\n",
       "      <td>9.43%</td>\n",
       "      <td>209xx</td>\n",
       "      <td>MD</td>\n",
       "      <td>&lt; 1 year</td>\n",
       "      <td>mdrigo</td>\n",
       "      <td>Rejected</td>\n",
       "    </tr>\n",
       "  </tbody>\n",
       "</table>\n",
       "</div>"
      ],
      "text/plain": [
       "   Amount Requested Application Date  Risk_Score Debt-To-Income Ratio  \\\n",
       "0            1000.0       2007-05-26       693.0                  10%   \n",
       "1            1000.0       2007-05-26       703.0                  10%   \n",
       "2           11000.0       2007-05-27       715.0                  10%   \n",
       "3            6000.0       2007-05-27       698.0               38.64%   \n",
       "4            1500.0       2007-05-27       509.0                9.43%   \n",
       "\n",
       "  Zip Code State Employment Length                        Loan Title  \\\n",
       "0    481xx    NM           4 years  Wedding Covered but No Honeymoon   \n",
       "1    010xx    MA          < 1 year                Consolidating Debt   \n",
       "2    212xx    MD            1 year       Want to consolidate my debt   \n",
       "3    017xx    MA          < 1 year                           waksman   \n",
       "4    209xx    MD          < 1 year                            mdrigo   \n",
       "\n",
       "  Loan Status  \n",
       "0    Rejected  \n",
       "1    Rejected  \n",
       "2    Rejected  \n",
       "3    Rejected  \n",
       "4    Rejected  "
      ]
     },
     "execution_count": 14,
     "metadata": {},
     "output_type": "execute_result"
    }
   ],
   "source": [
    "# adding a target value to the rejected data\n",
    "clean_reject_df['Loan Status'] = \"Rejected\"\n",
    "clean_reject_df.head()"
   ]
  },
  {
   "cell_type": "code",
   "execution_count": 15,
   "metadata": {},
   "outputs": [
    {
     "data": {
      "text/plain": [
       "count    2.260668e+06\n",
       "mean     1.309283e+01\n",
       "std      4.832138e+00\n",
       "min      5.310000e+00\n",
       "25%      9.490000e+00\n",
       "50%      1.262000e+01\n",
       "75%      1.599000e+01\n",
       "max      3.099000e+01\n",
       "Name: int_rate, dtype: float64"
      ]
     },
     "execution_count": 15,
     "metadata": {},
     "output_type": "execute_result"
    }
   ],
   "source": [
    "clean_accept_df['int_rate'].describe() #interest rates in accept data (min 5.321%, max 3.09%)"
   ]
  },
  {
   "cell_type": "code",
   "execution_count": 16,
   "metadata": {},
   "outputs": [
    {
     "data": {
      "image/png": "[encoded data removed]",
      "text/plain": [
       "<Figure size 720x432 with 1 Axes>"
      ]
     },
     "metadata": {
      "needs_background": "light"
     },
     "output_type": "display_data"
    }
   ],
   "source": [
    "#histogram correlation b/t fico score and Risk Score\n",
    "plt.figure(figsize=(10,6))\n",
    "clean_accept_df[\"fico_range_high\"].hist(alpha=.5, color='green', bins=25), clean_reject_df[\"Risk_Score\"].hist(alpha=.5, color='red', bins=25)\n",
    "plt.show()"
   ]
  },
  {
   "cell_type": "code",
   "execution_count": 17,
   "metadata": {},
   "outputs": [
    {
     "data": {
      "image/png": "[encoded data removed]",
      "text/plain": [
       "<Figure size 720x432 with 1 Axes>"
      ]
     },
     "metadata": {
      "needs_background": "light"
     },
     "output_type": "display_data"
    }
   ],
   "source": [
    "#correlation b/t Risk Score and fico\n",
    "plt.figure(figsize=(10,6))\n",
    "clean_reject_df[\"Risk_Score\"].hist(alpha=.5, color='red', bins=25), clean_accept_df[\"fico_range_high\"].hist(alpha=.5, color='blue', bins=25)\n",
    "plt.show()"
   ]
  },
  {
   "cell_type": "code",
   "execution_count": 18,
   "metadata": {},
   "outputs": [
    {
     "data": {
      "text/plain": [
       "<seaborn.axisgrid.JointGrid at 0x291dc103e50>"
      ]
     },
     "execution_count": 18,
     "metadata": {},
     "output_type": "execute_result"
    },
    {
     "data": {
      "image/png": "[encoded data removed]",
      "text/plain": [
       "<Figure size 432x432 with 3 Axes>"
      ]
     },
     "metadata": {
      "needs_background": "light"
     },
     "output_type": "display_data"
    }
   ],
   "source": [
    "sns.jointplot(x=\"fico_range_high\", y=\"loan_amnt\", data=clean_accept_df, color='purple')"
   ]
  },
  {
   "cell_type": "code",
   "execution_count": 19,
   "metadata": {},
   "outputs": [
    {
     "data": {
      "text/plain": [
       "<seaborn.axisgrid.JointGrid at 0x29197979d60>"
      ]
     },
     "execution_count": 19,
     "metadata": {},
     "output_type": "execute_result"
    },
    {
     "data": {
      "image/png": "[encoded data removed]",
      "text/plain": [
       "<Figure size 432x432 with 3 Axes>"
      ]
     },
     "metadata": {
      "needs_background": "light"
     },
     "output_type": "display_data"
    }
   ],
   "source": [
    "sns.jointplot(x=\"fico_range_high\", y=\"int_rate\", data=clean_accept_df, color='purple')"
   ]
  },
  {
   "cell_type": "code",
   "execution_count": 20,
   "metadata": {},
   "outputs": [
    {
     "name": "stdout",
     "output_type": "stream",
     "text": [
      "<class 'pandas.core.frame.DataFrame'>\n",
      "RangeIndex: 2260701 entries, 0 to 2260700\n",
      "Data columns (total 10 columns):\n",
      " #   Column           Dtype  \n",
      "---  ------           -----  \n",
      " 0   loan_amnt        float64\n",
      " 1   int_rate         float64\n",
      " 2   issue_d          object \n",
      " 3   fico_range_high  float64\n",
      " 4   dti              float64\n",
      " 5   zip_code         object \n",
      " 6   addr_state       object \n",
      " 7   emp_length       object \n",
      " 8   purpose          object \n",
      " 9   Loan Status      object \n",
      "dtypes: float64(4), object(6)\n",
      "memory usage: 172.5+ MB\n",
      "None\n"
     ]
    }
   ],
   "source": [
    "print(clean_accept_df.info())"
   ]
  },
  {
   "cell_type": "code",
   "execution_count": 21,
   "metadata": {},
   "outputs": [
    {
     "name": "stdout",
     "output_type": "stream",
     "text": [
      "<class 'pandas.core.frame.DataFrame'>\n",
      "RangeIndex: 27648741 entries, 0 to 27648740\n",
      "Data columns (total 9 columns):\n",
      " #   Column                Dtype  \n",
      "---  ------                -----  \n",
      " 0   Amount Requested      float64\n",
      " 1   Application Date      object \n",
      " 2   Risk_Score            float64\n",
      " 3   Debt-To-Income Ratio  object \n",
      " 4   Zip Code              object \n",
      " 5   State                 object \n",
      " 6   Employment Length     object \n",
      " 7   Loan Title            object \n",
      " 8   Loan Status           object \n",
      "dtypes: float64(2), object(7)\n",
      "memory usage: 1.9+ GB\n",
      "None\n"
     ]
    }
   ],
   "source": [
    "print(clean_reject_df.info())"
   ]
  },
  {
   "cell_type": "code",
   "execution_count": 22,
   "metadata": {},
   "outputs": [
    {
     "name": "stderr",
     "output_type": "stream",
     "text": [
      "<ipython-input-22-51609ae8d551>:2: SettingWithCopyWarning: \n",
      "A value is trying to be set on a copy of a slice from a DataFrame.\n",
      "Try using .loc[row_indexer,col_indexer] = value instead\n",
      "\n",
      "See the caveats in the documentation: https://pandas.pydata.org/pandas-docs/stable/user_guide/indexing.html#returning-a-view-versus-a-copy\n",
      "  clean_accept_df['issue_d'] = pd.to_datetime(clean_accept_df['issue_d'])\n"
     ]
    },
    {
     "data": {
      "text/html": [
       "<div>\n",
       "<style scoped>\n",
       "    .dataframe tbody tr th:only-of-type {\n",
       "        vertical-align: middle;\n",
       "    }\n",
       "\n",
       "    .dataframe tbody tr th {\n",
       "        vertical-align: top;\n",
       "    }\n",
       "\n",
       "    .dataframe thead th {\n",
       "        text-align: right;\n",
       "    }\n",
       "</style>\n",
       "<table border=\"1\" class=\"dataframe\">\n",
       "  <thead>\n",
       "    <tr style=\"text-align: right;\">\n",
       "      <th></th>\n",
       "      <th>loan_amnt</th>\n",
       "      <th>int_rate</th>\n",
       "      <th>issue_d</th>\n",
       "      <th>fico_range_high</th>\n",
       "      <th>dti</th>\n",
       "      <th>zip_code</th>\n",
       "      <th>addr_state</th>\n",
       "      <th>emp_length</th>\n",
       "      <th>purpose</th>\n",
       "      <th>Loan Status</th>\n",
       "    </tr>\n",
       "  </thead>\n",
       "  <tbody>\n",
       "    <tr>\n",
       "      <th>0</th>\n",
       "      <td>3600.0</td>\n",
       "      <td>13.99</td>\n",
       "      <td>2015-12-01</td>\n",
       "      <td>679.0</td>\n",
       "      <td>5.91</td>\n",
       "      <td>190xx</td>\n",
       "      <td>PA</td>\n",
       "      <td>10+ years</td>\n",
       "      <td>debt_consolidation</td>\n",
       "      <td>Accepted</td>\n",
       "    </tr>\n",
       "    <tr>\n",
       "      <th>1</th>\n",
       "      <td>24700.0</td>\n",
       "      <td>11.99</td>\n",
       "      <td>2015-12-01</td>\n",
       "      <td>719.0</td>\n",
       "      <td>16.06</td>\n",
       "      <td>577xx</td>\n",
       "      <td>SD</td>\n",
       "      <td>10+ years</td>\n",
       "      <td>small_business</td>\n",
       "      <td>Accepted</td>\n",
       "    </tr>\n",
       "    <tr>\n",
       "      <th>2</th>\n",
       "      <td>20000.0</td>\n",
       "      <td>10.78</td>\n",
       "      <td>2015-12-01</td>\n",
       "      <td>699.0</td>\n",
       "      <td>10.78</td>\n",
       "      <td>605xx</td>\n",
       "      <td>IL</td>\n",
       "      <td>10+ years</td>\n",
       "      <td>home_improvement</td>\n",
       "      <td>Accepted</td>\n",
       "    </tr>\n",
       "    <tr>\n",
       "      <th>3</th>\n",
       "      <td>35000.0</td>\n",
       "      <td>14.85</td>\n",
       "      <td>2015-12-01</td>\n",
       "      <td>789.0</td>\n",
       "      <td>17.06</td>\n",
       "      <td>076xx</td>\n",
       "      <td>NJ</td>\n",
       "      <td>10+ years</td>\n",
       "      <td>debt_consolidation</td>\n",
       "      <td>Accepted</td>\n",
       "    </tr>\n",
       "    <tr>\n",
       "      <th>4</th>\n",
       "      <td>10400.0</td>\n",
       "      <td>22.45</td>\n",
       "      <td>2015-12-01</td>\n",
       "      <td>699.0</td>\n",
       "      <td>25.37</td>\n",
       "      <td>174xx</td>\n",
       "      <td>PA</td>\n",
       "      <td>3 years</td>\n",
       "      <td>major_purchase</td>\n",
       "      <td>Accepted</td>\n",
       "    </tr>\n",
       "  </tbody>\n",
       "</table>\n",
       "</div>"
      ],
      "text/plain": [
       "   loan_amnt  int_rate    issue_d  fico_range_high    dti zip_code addr_state  \\\n",
       "0     3600.0     13.99 2015-12-01            679.0   5.91    190xx         PA   \n",
       "1    24700.0     11.99 2015-12-01            719.0  16.06    577xx         SD   \n",
       "2    20000.0     10.78 2015-12-01            699.0  10.78    605xx         IL   \n",
       "3    35000.0     14.85 2015-12-01            789.0  17.06    076xx         NJ   \n",
       "4    10400.0     22.45 2015-12-01            699.0  25.37    174xx         PA   \n",
       "\n",
       "  emp_length             purpose Loan Status  \n",
       "0  10+ years  debt_consolidation    Accepted  \n",
       "1  10+ years      small_business    Accepted  \n",
       "2  10+ years    home_improvement    Accepted  \n",
       "3  10+ years  debt_consolidation    Accepted  \n",
       "4    3 years      major_purchase    Accepted  "
      ]
     },
     "execution_count": 22,
     "metadata": {},
     "output_type": "execute_result"
    }
   ],
   "source": [
    "#accepted issue date as date\n",
    "clean_accept_df['issue_d'] = pd.to_datetime(clean_accept_df['issue_d'])\n",
    "clean_accept_df.head()"
   ]
  },
  {
   "cell_type": "code",
   "execution_count": 50,
   "metadata": {},
   "outputs": [
    {
     "data": {
      "text/html": [
       "<div>\n",
       "<style scoped>\n",
       "    .dataframe tbody tr th:only-of-type {\n",
       "        vertical-align: middle;\n",
       "    }\n",
       "\n",
       "    .dataframe tbody tr th {\n",
       "        vertical-align: top;\n",
       "    }\n",
       "\n",
       "    .dataframe thead th {\n",
       "        text-align: right;\n",
       "    }\n",
       "</style>\n",
       "<table border=\"1\" class=\"dataframe\">\n",
       "  <thead>\n",
       "    <tr style=\"text-align: right;\">\n",
       "      <th></th>\n",
       "      <th>loan_amnt</th>\n",
       "      <th>int_rate</th>\n",
       "      <th>issue_d</th>\n",
       "      <th>fico_range_high</th>\n",
       "      <th>dti</th>\n",
       "      <th>zip_code</th>\n",
       "      <th>addr_state</th>\n",
       "      <th>emp_length</th>\n",
       "      <th>purpose</th>\n",
       "      <th>Loan Status</th>\n",
       "    </tr>\n",
       "  </thead>\n",
       "  <tbody>\n",
       "    <tr>\n",
       "      <th>421097</th>\n",
       "      <td>5000.0</td>\n",
       "      <td>20.39</td>\n",
       "      <td>2018-03-01</td>\n",
       "      <td>669.0</td>\n",
       "      <td>21.80</td>\n",
       "      <td>740xx</td>\n",
       "      <td>OK</td>\n",
       "      <td>8 years</td>\n",
       "      <td>other</td>\n",
       "      <td>Accepted</td>\n",
       "    </tr>\n",
       "    <tr>\n",
       "      <th>421098</th>\n",
       "      <td>15000.0</td>\n",
       "      <td>9.92</td>\n",
       "      <td>2018-03-01</td>\n",
       "      <td>704.0</td>\n",
       "      <td>18.29</td>\n",
       "      <td>337xx</td>\n",
       "      <td>FL</td>\n",
       "      <td>2 years</td>\n",
       "      <td>debt_consolidation</td>\n",
       "      <td>Accepted</td>\n",
       "    </tr>\n",
       "    <tr>\n",
       "      <th>421099</th>\n",
       "      <td>11200.0</td>\n",
       "      <td>30.79</td>\n",
       "      <td>2018-03-01</td>\n",
       "      <td>669.0</td>\n",
       "      <td>43.97</td>\n",
       "      <td>030xx</td>\n",
       "      <td>NH</td>\n",
       "      <td>&lt; 1 year</td>\n",
       "      <td>medical</td>\n",
       "      <td>Accepted</td>\n",
       "    </tr>\n",
       "    <tr>\n",
       "      <th>421100</th>\n",
       "      <td>25000.0</td>\n",
       "      <td>21.85</td>\n",
       "      <td>2018-03-01</td>\n",
       "      <td>669.0</td>\n",
       "      <td>12.89</td>\n",
       "      <td>361xx</td>\n",
       "      <td>AL</td>\n",
       "      <td>10+ years</td>\n",
       "      <td>debt_consolidation</td>\n",
       "      <td>Accepted</td>\n",
       "    </tr>\n",
       "    <tr>\n",
       "      <th>421101</th>\n",
       "      <td>3000.0</td>\n",
       "      <td>7.34</td>\n",
       "      <td>2018-03-01</td>\n",
       "      <td>764.0</td>\n",
       "      <td>0.58</td>\n",
       "      <td>988xx</td>\n",
       "      <td>WA</td>\n",
       "      <td>9 years</td>\n",
       "      <td>major_purchase</td>\n",
       "      <td>Accepted</td>\n",
       "    </tr>\n",
       "  </tbody>\n",
       "</table>\n",
       "</div>"
      ],
      "text/plain": [
       "        loan_amnt  int_rate    issue_d  fico_range_high    dti zip_code  \\\n",
       "421097     5000.0     20.39 2018-03-01            669.0  21.80    740xx   \n",
       "421098    15000.0      9.92 2018-03-01            704.0  18.29    337xx   \n",
       "421099    11200.0     30.79 2018-03-01            669.0  43.97    030xx   \n",
       "421100    25000.0     21.85 2018-03-01            669.0  12.89    361xx   \n",
       "421101     3000.0      7.34 2018-03-01            764.0   0.58    988xx   \n",
       "\n",
       "       addr_state emp_length             purpose Loan Status  \n",
       "421097         OK    8 years               other    Accepted  \n",
       "421098         FL    2 years  debt_consolidation    Accepted  \n",
       "421099         NH   < 1 year             medical    Accepted  \n",
       "421100         AL  10+ years  debt_consolidation    Accepted  \n",
       "421101         WA    9 years      major_purchase    Accepted  "
      ]
     },
     "execution_count": 50,
     "metadata": {},
     "output_type": "execute_result"
    }
   ],
   "source": [
    "#2018 accept data\n",
    "accept_filtered_df = clean_accept_df[clean_accept_df['issue_d'].dt.year==2018]\n",
    "accept_filtered_df.head()"
   ]
  },
  {
   "cell_type": "code",
   "execution_count": 51,
   "metadata": {},
   "outputs": [
    {
     "data": {
      "text/plain": [
       "array([2018], dtype=int64)"
      ]
     },
     "execution_count": 51,
     "metadata": {},
     "output_type": "execute_result"
    }
   ],
   "source": [
    "#see the array\n",
    "accept_filtered_df ['issue_d'].dt.year.unique()"
   ]
  },
  {
   "cell_type": "code",
   "execution_count": 52,
   "metadata": {},
   "outputs": [
    {
     "data": {
      "text/html": [
       "<div>\n",
       "<style scoped>\n",
       "    .dataframe tbody tr th:only-of-type {\n",
       "        vertical-align: middle;\n",
       "    }\n",
       "\n",
       "    .dataframe tbody tr th {\n",
       "        vertical-align: top;\n",
       "    }\n",
       "\n",
       "    .dataframe thead th {\n",
       "        text-align: right;\n",
       "    }\n",
       "</style>\n",
       "<table border=\"1\" class=\"dataframe\">\n",
       "  <thead>\n",
       "    <tr style=\"text-align: right;\">\n",
       "      <th></th>\n",
       "      <th>Amount Requested</th>\n",
       "      <th>Application Date</th>\n",
       "      <th>Risk_Score</th>\n",
       "      <th>Debt-To-Income Ratio</th>\n",
       "      <th>Zip Code</th>\n",
       "      <th>State</th>\n",
       "      <th>Employment Length</th>\n",
       "      <th>Loan Title</th>\n",
       "      <th>Loan Status</th>\n",
       "    </tr>\n",
       "  </thead>\n",
       "  <tbody>\n",
       "    <tr>\n",
       "      <th>0</th>\n",
       "      <td>1000.0</td>\n",
       "      <td>2007-05-26</td>\n",
       "      <td>693.0</td>\n",
       "      <td>10%</td>\n",
       "      <td>481xx</td>\n",
       "      <td>NM</td>\n",
       "      <td>4 years</td>\n",
       "      <td>Wedding Covered but No Honeymoon</td>\n",
       "      <td>Rejected</td>\n",
       "    </tr>\n",
       "    <tr>\n",
       "      <th>1</th>\n",
       "      <td>1000.0</td>\n",
       "      <td>2007-05-26</td>\n",
       "      <td>703.0</td>\n",
       "      <td>10%</td>\n",
       "      <td>010xx</td>\n",
       "      <td>MA</td>\n",
       "      <td>&lt; 1 year</td>\n",
       "      <td>Consolidating Debt</td>\n",
       "      <td>Rejected</td>\n",
       "    </tr>\n",
       "    <tr>\n",
       "      <th>2</th>\n",
       "      <td>11000.0</td>\n",
       "      <td>2007-05-27</td>\n",
       "      <td>715.0</td>\n",
       "      <td>10%</td>\n",
       "      <td>212xx</td>\n",
       "      <td>MD</td>\n",
       "      <td>1 year</td>\n",
       "      <td>Want to consolidate my debt</td>\n",
       "      <td>Rejected</td>\n",
       "    </tr>\n",
       "    <tr>\n",
       "      <th>3</th>\n",
       "      <td>6000.0</td>\n",
       "      <td>2007-05-27</td>\n",
       "      <td>698.0</td>\n",
       "      <td>38.64%</td>\n",
       "      <td>017xx</td>\n",
       "      <td>MA</td>\n",
       "      <td>&lt; 1 year</td>\n",
       "      <td>waksman</td>\n",
       "      <td>Rejected</td>\n",
       "    </tr>\n",
       "    <tr>\n",
       "      <th>4</th>\n",
       "      <td>1500.0</td>\n",
       "      <td>2007-05-27</td>\n",
       "      <td>509.0</td>\n",
       "      <td>9.43%</td>\n",
       "      <td>209xx</td>\n",
       "      <td>MD</td>\n",
       "      <td>&lt; 1 year</td>\n",
       "      <td>mdrigo</td>\n",
       "      <td>Rejected</td>\n",
       "    </tr>\n",
       "  </tbody>\n",
       "</table>\n",
       "</div>"
      ],
      "text/plain": [
       "   Amount Requested Application Date  Risk_Score Debt-To-Income Ratio  \\\n",
       "0            1000.0       2007-05-26       693.0                  10%   \n",
       "1            1000.0       2007-05-26       703.0                  10%   \n",
       "2           11000.0       2007-05-27       715.0                  10%   \n",
       "3            6000.0       2007-05-27       698.0               38.64%   \n",
       "4            1500.0       2007-05-27       509.0                9.43%   \n",
       "\n",
       "  Zip Code State Employment Length                        Loan Title  \\\n",
       "0    481xx    NM           4 years  Wedding Covered but No Honeymoon   \n",
       "1    010xx    MA          < 1 year                Consolidating Debt   \n",
       "2    212xx    MD            1 year       Want to consolidate my debt   \n",
       "3    017xx    MA          < 1 year                           waksman   \n",
       "4    209xx    MD          < 1 year                            mdrigo   \n",
       "\n",
       "  Loan Status  \n",
       "0    Rejected  \n",
       "1    Rejected  \n",
       "2    Rejected  \n",
       "3    Rejected  \n",
       "4    Rejected  "
      ]
     },
     "execution_count": 52,
     "metadata": {},
     "output_type": "execute_result"
    }
   ],
   "source": [
    "#rejected application date as date\n",
    "clean_reject_df['Application Date'] = pd.to_datetime(clean_reject_df['Application Date'])\n",
    "clean_reject_df.head()"
   ]
  },
  {
   "cell_type": "code",
   "execution_count": 53,
   "metadata": {},
   "outputs": [
    {
     "data": {
      "text/html": [
       "<div>\n",
       "<style scoped>\n",
       "    .dataframe tbody tr th:only-of-type {\n",
       "        vertical-align: middle;\n",
       "    }\n",
       "\n",
       "    .dataframe tbody tr th {\n",
       "        vertical-align: top;\n",
       "    }\n",
       "\n",
       "    .dataframe thead th {\n",
       "        text-align: right;\n",
       "    }\n",
       "</style>\n",
       "<table border=\"1\" class=\"dataframe\">\n",
       "  <thead>\n",
       "    <tr style=\"text-align: right;\">\n",
       "      <th></th>\n",
       "      <th>Amount Requested</th>\n",
       "      <th>Application Date</th>\n",
       "      <th>Risk_Score</th>\n",
       "      <th>Debt-To-Income Ratio</th>\n",
       "      <th>Zip Code</th>\n",
       "      <th>State</th>\n",
       "      <th>Employment Length</th>\n",
       "      <th>Loan Title</th>\n",
       "      <th>Loan Status</th>\n",
       "    </tr>\n",
       "  </thead>\n",
       "  <tbody>\n",
       "    <tr>\n",
       "      <th>4404427</th>\n",
       "      <td>3000.0</td>\n",
       "      <td>2018-07-01</td>\n",
       "      <td>NaN</td>\n",
       "      <td>100%</td>\n",
       "      <td>925xx</td>\n",
       "      <td>CA</td>\n",
       "      <td>&lt; 1 year</td>\n",
       "      <td>Debt consolidation</td>\n",
       "      <td>Rejected</td>\n",
       "    </tr>\n",
       "    <tr>\n",
       "      <th>4404428</th>\n",
       "      <td>40000.0</td>\n",
       "      <td>2018-07-01</td>\n",
       "      <td>NaN</td>\n",
       "      <td>7.45%</td>\n",
       "      <td>335xx</td>\n",
       "      <td>FL</td>\n",
       "      <td>&lt; 1 year</td>\n",
       "      <td>Major purchase</td>\n",
       "      <td>Rejected</td>\n",
       "    </tr>\n",
       "    <tr>\n",
       "      <th>4404429</th>\n",
       "      <td>16000.0</td>\n",
       "      <td>2018-07-01</td>\n",
       "      <td>NaN</td>\n",
       "      <td>34.93%</td>\n",
       "      <td>156xx</td>\n",
       "      <td>PA</td>\n",
       "      <td>&lt; 1 year</td>\n",
       "      <td>Debt consolidation</td>\n",
       "      <td>Rejected</td>\n",
       "    </tr>\n",
       "    <tr>\n",
       "      <th>4404430</th>\n",
       "      <td>40000.0</td>\n",
       "      <td>2018-07-01</td>\n",
       "      <td>NaN</td>\n",
       "      <td>27.87%</td>\n",
       "      <td>957xx</td>\n",
       "      <td>CA</td>\n",
       "      <td>&lt; 1 year</td>\n",
       "      <td>Debt consolidation</td>\n",
       "      <td>Rejected</td>\n",
       "    </tr>\n",
       "    <tr>\n",
       "      <th>4404431</th>\n",
       "      <td>300000.0</td>\n",
       "      <td>2018-07-01</td>\n",
       "      <td>NaN</td>\n",
       "      <td>-1%</td>\n",
       "      <td>258xx</td>\n",
       "      <td>TN</td>\n",
       "      <td>&lt; 1 year</td>\n",
       "      <td>Business Loan</td>\n",
       "      <td>Rejected</td>\n",
       "    </tr>\n",
       "  </tbody>\n",
       "</table>\n",
       "</div>"
      ],
      "text/plain": [
       "         Amount Requested Application Date  Risk_Score Debt-To-Income Ratio  \\\n",
       "4404427            3000.0       2018-07-01         NaN                 100%   \n",
       "4404428           40000.0       2018-07-01         NaN                7.45%   \n",
       "4404429           16000.0       2018-07-01         NaN               34.93%   \n",
       "4404430           40000.0       2018-07-01         NaN               27.87%   \n",
       "4404431          300000.0       2018-07-01         NaN                  -1%   \n",
       "\n",
       "        Zip Code State Employment Length          Loan Title Loan Status  \n",
       "4404427    925xx    CA          < 1 year  Debt consolidation    Rejected  \n",
       "4404428    335xx    FL          < 1 year      Major purchase    Rejected  \n",
       "4404429    156xx    PA          < 1 year  Debt consolidation    Rejected  \n",
       "4404430    957xx    CA          < 1 year  Debt consolidation    Rejected  \n",
       "4404431    258xx    TN          < 1 year       Business Loan    Rejected  "
      ]
     },
     "execution_count": 53,
     "metadata": {},
     "output_type": "execute_result"
    }
   ],
   "source": [
    "#2018 reject data\n",
    "reject_filtered_df = clean_reject_df[clean_reject_df['Application Date'].dt.year==2018]\n",
    "reject_filtered_df.head()"
   ]
  },
  {
   "cell_type": "code",
   "execution_count": 54,
   "metadata": {},
   "outputs": [
    {
     "data": {
      "text/plain": [
       "array([2018], dtype=int64)"
      ]
     },
     "execution_count": 54,
     "metadata": {},
     "output_type": "execute_result"
    }
   ],
   "source": [
    "#see the array\n",
    "reject_filtered_df ['Application Date'].dt.year.unique()"
   ]
  },
  {
   "cell_type": "code",
   "execution_count": 55,
   "metadata": {},
   "outputs": [
    {
     "name": "stderr",
     "output_type": "stream",
     "text": [
      "C:\\Users\\glori\\anaconda3\\lib\\site-packages\\pandas\\core\\frame.py:4296: SettingWithCopyWarning: \n",
      "A value is trying to be set on a copy of a slice from a DataFrame\n",
      "\n",
      "See the caveats in the documentation: https://pandas.pydata.org/pandas-docs/stable/user_guide/indexing.html#returning-a-view-versus-a-copy\n",
      "  return super().rename(\n"
     ]
    },
    {
     "data": {
      "text/html": [
       "<div>\n",
       "<style scoped>\n",
       "    .dataframe tbody tr th:only-of-type {\n",
       "        vertical-align: middle;\n",
       "    }\n",
       "\n",
       "    .dataframe tbody tr th {\n",
       "        vertical-align: top;\n",
       "    }\n",
       "\n",
       "    .dataframe thead th {\n",
       "        text-align: right;\n",
       "    }\n",
       "</style>\n",
       "<table border=\"1\" class=\"dataframe\">\n",
       "  <thead>\n",
       "    <tr style=\"text-align: right;\">\n",
       "      <th></th>\n",
       "      <th>loan_amt</th>\n",
       "      <th>issue_d</th>\n",
       "      <th>fico_range_high</th>\n",
       "      <th>dti</th>\n",
       "      <th>zip_code</th>\n",
       "      <th>addr_state</th>\n",
       "      <th>emp_length</th>\n",
       "      <th>purpose</th>\n",
       "      <th>Loan Status</th>\n",
       "    </tr>\n",
       "  </thead>\n",
       "  <tbody>\n",
       "    <tr>\n",
       "      <th>4404427</th>\n",
       "      <td>3000.0</td>\n",
       "      <td>2018-07-01</td>\n",
       "      <td>NaN</td>\n",
       "      <td>100%</td>\n",
       "      <td>925xx</td>\n",
       "      <td>CA</td>\n",
       "      <td>&lt; 1 year</td>\n",
       "      <td>Debt consolidation</td>\n",
       "      <td>Rejected</td>\n",
       "    </tr>\n",
       "    <tr>\n",
       "      <th>4404428</th>\n",
       "      <td>40000.0</td>\n",
       "      <td>2018-07-01</td>\n",
       "      <td>NaN</td>\n",
       "      <td>7.45%</td>\n",
       "      <td>335xx</td>\n",
       "      <td>FL</td>\n",
       "      <td>&lt; 1 year</td>\n",
       "      <td>Major purchase</td>\n",
       "      <td>Rejected</td>\n",
       "    </tr>\n",
       "    <tr>\n",
       "      <th>4404429</th>\n",
       "      <td>16000.0</td>\n",
       "      <td>2018-07-01</td>\n",
       "      <td>NaN</td>\n",
       "      <td>34.93%</td>\n",
       "      <td>156xx</td>\n",
       "      <td>PA</td>\n",
       "      <td>&lt; 1 year</td>\n",
       "      <td>Debt consolidation</td>\n",
       "      <td>Rejected</td>\n",
       "    </tr>\n",
       "    <tr>\n",
       "      <th>4404430</th>\n",
       "      <td>40000.0</td>\n",
       "      <td>2018-07-01</td>\n",
       "      <td>NaN</td>\n",
       "      <td>27.87%</td>\n",
       "      <td>957xx</td>\n",
       "      <td>CA</td>\n",
       "      <td>&lt; 1 year</td>\n",
       "      <td>Debt consolidation</td>\n",
       "      <td>Rejected</td>\n",
       "    </tr>\n",
       "    <tr>\n",
       "      <th>4404431</th>\n",
       "      <td>300000.0</td>\n",
       "      <td>2018-07-01</td>\n",
       "      <td>NaN</td>\n",
       "      <td>-1%</td>\n",
       "      <td>258xx</td>\n",
       "      <td>TN</td>\n",
       "      <td>&lt; 1 year</td>\n",
       "      <td>Business Loan</td>\n",
       "      <td>Rejected</td>\n",
       "    </tr>\n",
       "  </tbody>\n",
       "</table>\n",
       "</div>"
      ],
      "text/plain": [
       "         loan_amt    issue_d  fico_range_high     dti zip_code addr_state  \\\n",
       "4404427    3000.0 2018-07-01              NaN    100%    925xx         CA   \n",
       "4404428   40000.0 2018-07-01              NaN   7.45%    335xx         FL   \n",
       "4404429   16000.0 2018-07-01              NaN  34.93%    156xx         PA   \n",
       "4404430   40000.0 2018-07-01              NaN  27.87%    957xx         CA   \n",
       "4404431  300000.0 2018-07-01              NaN     -1%    258xx         TN   \n",
       "\n",
       "        emp_length             purpose Loan Status  \n",
       "4404427   < 1 year  Debt consolidation    Rejected  \n",
       "4404428   < 1 year      Major purchase    Rejected  \n",
       "4404429   < 1 year  Debt consolidation    Rejected  \n",
       "4404430   < 1 year  Debt consolidation    Rejected  \n",
       "4404431   < 1 year       Business Loan    Rejected  "
      ]
     },
     "execution_count": 55,
     "metadata": {},
     "output_type": "execute_result"
    }
   ],
   "source": [
    "reject_filtered_df.rename(\n",
    "columns=({\"Amount Requested\": \"loan_amt\", \"Application Date\": \"issue_d\", \"Risk_Score\": \"fico_range_high\", \"Debt-To-Income Ratio\": \"dti\", \"Zip Code\": \"zip_code\", \"State\": \"addr_state\", \"Employment Length\": \"emp_length\", \"Loan Title\": \"purpose\"}), inplace=True,\n",
    ")\n",
    "reject_filtered_df.head()"
   ]
  },
  {
   "cell_type": "code",
   "execution_count": 56,
   "metadata": {},
   "outputs": [
    {
     "data": {
      "text/html": [
       "<div>\n",
       "<style scoped>\n",
       "    .dataframe tbody tr th:only-of-type {\n",
       "        vertical-align: middle;\n",
       "    }\n",
       "\n",
       "    .dataframe tbody tr th {\n",
       "        vertical-align: top;\n",
       "    }\n",
       "\n",
       "    .dataframe thead th {\n",
       "        text-align: right;\n",
       "    }\n",
       "</style>\n",
       "<table border=\"1\" class=\"dataframe\">\n",
       "  <thead>\n",
       "    <tr style=\"text-align: right;\">\n",
       "      <th></th>\n",
       "      <th>loan_amnt</th>\n",
       "      <th>int_rate</th>\n",
       "      <th>issue_d</th>\n",
       "      <th>fico_range_high</th>\n",
       "      <th>dti</th>\n",
       "      <th>zip_code</th>\n",
       "      <th>addr_state</th>\n",
       "      <th>emp_length</th>\n",
       "      <th>purpose</th>\n",
       "      <th>Loan Status</th>\n",
       "    </tr>\n",
       "  </thead>\n",
       "  <tbody>\n",
       "    <tr>\n",
       "      <th>421097</th>\n",
       "      <td>5000.0</td>\n",
       "      <td>20.39</td>\n",
       "      <td>2018-03-01</td>\n",
       "      <td>669.0</td>\n",
       "      <td>21.80</td>\n",
       "      <td>740xx</td>\n",
       "      <td>OK</td>\n",
       "      <td>8 years</td>\n",
       "      <td>other</td>\n",
       "      <td>Accepted</td>\n",
       "    </tr>\n",
       "    <tr>\n",
       "      <th>421098</th>\n",
       "      <td>15000.0</td>\n",
       "      <td>9.92</td>\n",
       "      <td>2018-03-01</td>\n",
       "      <td>704.0</td>\n",
       "      <td>18.29</td>\n",
       "      <td>337xx</td>\n",
       "      <td>FL</td>\n",
       "      <td>2 years</td>\n",
       "      <td>debt_consolidation</td>\n",
       "      <td>Accepted</td>\n",
       "    </tr>\n",
       "    <tr>\n",
       "      <th>421099</th>\n",
       "      <td>11200.0</td>\n",
       "      <td>30.79</td>\n",
       "      <td>2018-03-01</td>\n",
       "      <td>669.0</td>\n",
       "      <td>43.97</td>\n",
       "      <td>030xx</td>\n",
       "      <td>NH</td>\n",
       "      <td>&lt; 1 year</td>\n",
       "      <td>medical</td>\n",
       "      <td>Accepted</td>\n",
       "    </tr>\n",
       "    <tr>\n",
       "      <th>421100</th>\n",
       "      <td>25000.0</td>\n",
       "      <td>21.85</td>\n",
       "      <td>2018-03-01</td>\n",
       "      <td>669.0</td>\n",
       "      <td>12.89</td>\n",
       "      <td>361xx</td>\n",
       "      <td>AL</td>\n",
       "      <td>10+ years</td>\n",
       "      <td>debt_consolidation</td>\n",
       "      <td>Accepted</td>\n",
       "    </tr>\n",
       "    <tr>\n",
       "      <th>421101</th>\n",
       "      <td>3000.0</td>\n",
       "      <td>7.34</td>\n",
       "      <td>2018-03-01</td>\n",
       "      <td>764.0</td>\n",
       "      <td>0.58</td>\n",
       "      <td>988xx</td>\n",
       "      <td>WA</td>\n",
       "      <td>9 years</td>\n",
       "      <td>major_purchase</td>\n",
       "      <td>Accepted</td>\n",
       "    </tr>\n",
       "  </tbody>\n",
       "</table>\n",
       "</div>"
      ],
      "text/plain": [
       "        loan_amnt  int_rate    issue_d  fico_range_high    dti zip_code  \\\n",
       "421097     5000.0     20.39 2018-03-01            669.0  21.80    740xx   \n",
       "421098    15000.0      9.92 2018-03-01            704.0  18.29    337xx   \n",
       "421099    11200.0     30.79 2018-03-01            669.0  43.97    030xx   \n",
       "421100    25000.0     21.85 2018-03-01            669.0  12.89    361xx   \n",
       "421101     3000.0      7.34 2018-03-01            764.0   0.58    988xx   \n",
       "\n",
       "       addr_state emp_length             purpose Loan Status  \n",
       "421097         OK    8 years               other    Accepted  \n",
       "421098         FL    2 years  debt_consolidation    Accepted  \n",
       "421099         NH   < 1 year             medical    Accepted  \n",
       "421100         AL  10+ years  debt_consolidation    Accepted  \n",
       "421101         WA    9 years      major_purchase    Accepted  "
      ]
     },
     "execution_count": 56,
     "metadata": {},
     "output_type": "execute_result"
    }
   ],
   "source": [
    "accept_filtered_df.head()"
   ]
  },
  {
   "cell_type": "code",
   "execution_count": 57,
   "metadata": {},
   "outputs": [
    {
     "name": "stderr",
     "output_type": "stream",
     "text": [
      "C:\\Users\\glori\\anaconda3\\lib\\site-packages\\pandas\\core\\indexing.py:1765: SettingWithCopyWarning: \n",
      "A value is trying to be set on a copy of a slice from a DataFrame.\n",
      "Try using .loc[row_indexer,col_indexer] = value instead\n",
      "\n",
      "See the caveats in the documentation: https://pandas.pydata.org/pandas-docs/stable/user_guide/indexing.html#returning-a-view-versus-a-copy\n",
      "  isetter(loc, value)\n"
     ]
    }
   ],
   "source": [
    "#categorical data to numerical data (accept)\n",
    "accept_filtered_df.loc[(accept_filtered_df.emp_length == '< 1 year'), \"emp_length\"] = 0\n",
    "accept_filtered_df.loc[(accept_filtered_df.emp_length == '1 year'), \"emp_length\"] = 1\n",
    "accept_filtered_df.loc[(accept_filtered_df.emp_length == '2 years'), \"emp_length\"] = 2\n",
    "accept_filtered_df.loc[(accept_filtered_df.emp_length == '3 years'), \"emp_length\"] = 3\n",
    "accept_filtered_df.loc[(accept_filtered_df.emp_length == '4 years'), \"emp_length\"] = 4\n",
    "accept_filtered_df.loc[(accept_filtered_df.emp_length == '5 years'), \"emp_length\"] = 5\n",
    "accept_filtered_df.loc[(accept_filtered_df.emp_length == '6 years'), \"emp_length\"] = 6\n",
    "accept_filtered_df.loc[(accept_filtered_df.emp_length == '7 years'), \"emp_length\"] = 7\n",
    "accept_filtered_df.loc[(accept_filtered_df.emp_length == '8 years'), \"emp_length\"] = 8\n",
    "accept_filtered_df.loc[(accept_filtered_df.emp_length == '9 years'), \"emp_length\"] = 9\n",
    "accept_filtered_df.loc[(accept_filtered_df.emp_length == '10+ years'), \"emp_length\"] = 10"
   ]
  },
  {
   "cell_type": "code",
   "execution_count": 58,
   "metadata": {},
   "outputs": [],
   "source": [
    "#categorical data to numerical data (reject)\n",
    "reject_filtered_df.loc[(reject_filtered_df.emp_length == '< 1 year'), \"emp_length\"] = 0\n",
    "reject_filtered_df.loc[(reject_filtered_df.emp_length == '1 year'), \"emp_length\"] = 1\n",
    "reject_filtered_df.loc[(reject_filtered_df.emp_length == '2 years'), \"emp_length\"] = 2\n",
    "reject_filtered_df.loc[(reject_filtered_df.emp_length == '3 years'), \"emp_length\"] = 3\n",
    "reject_filtered_df.loc[(reject_filtered_df.emp_length == '4 years'), \"emp_length\"] = 4\n",
    "reject_filtered_df.loc[(reject_filtered_df.emp_length == '5 years'), \"emp_length\"] = 5\n",
    "reject_filtered_df.loc[(reject_filtered_df.emp_length == '6 years'), \"emp_length\"] = 6\n",
    "reject_filtered_df.loc[(reject_filtered_df.emp_length == '7 years'), \"emp_length\"] = 7\n",
    "reject_filtered_df.loc[(reject_filtered_df.emp_length == '8 years'), \"emp_length\"] = 8\n",
    "reject_filtered_df.loc[(reject_filtered_df.emp_length == '9 years'), \"emp_length\"] = 9\n",
    "reject_filtered_df.loc[(reject_filtered_df.emp_length == '10+ years'), \"emp_length\"] = 10"
   ]
  },
  {
   "cell_type": "code",
   "execution_count": 60,
   "metadata": {},
   "outputs": [],
   "source": [
    "final_accept_df = accept_filtered_df.drop(['zip_code', 'issue_d'], axis = 1)\n",
    "final_reject_df = reject_filtered_df.drop(['zip_code', 'issue_d'], axis = 1)"
   ]
  },
  {
   "cell_type": "code",
   "execution_count": 61,
   "metadata": {},
   "outputs": [
    {
     "name": "stdout",
     "output_type": "stream",
     "text": [
      "<class 'pandas.core.frame.DataFrame'>\n",
      "Int64Index: 495242 entries, 421097 to 1611876\n",
      "Data columns (total 8 columns):\n",
      " #   Column           Non-Null Count   Dtype  \n",
      "---  ------           --------------   -----  \n",
      " 0   loan_amnt        495242 non-null  float64\n",
      " 1   int_rate         495242 non-null  float64\n",
      " 2   fico_range_high  495242 non-null  float64\n",
      " 3   dti              494110 non-null  float64\n",
      " 4   addr_state       495242 non-null  object \n",
      " 5   emp_length       453255 non-null  object \n",
      " 6   purpose          495242 non-null  object \n",
      " 7   Loan Status      495242 non-null  object \n",
      "dtypes: float64(4), object(4)\n",
      "memory usage: 34.0+ MB\n",
      "None\n"
     ]
    }
   ],
   "source": [
    "print(final_accept_df.info())"
   ]
  },
  {
   "cell_type": "code",
   "execution_count": 62,
   "metadata": {},
   "outputs": [
    {
     "name": "stdout",
     "output_type": "stream",
     "text": [
      "<class 'pandas.core.frame.DataFrame'>\n",
      "Int64Index: 9496782 entries, 4404427 to 19699075\n",
      "Data columns (total 7 columns):\n",
      " #   Column           Dtype  \n",
      "---  ------           -----  \n",
      " 0   loan_amt         float64\n",
      " 1   fico_range_high  float64\n",
      " 2   dti              object \n",
      " 3   addr_state       object \n",
      " 4   emp_length       object \n",
      " 5   purpose          object \n",
      " 6   Loan Status      object \n",
      "dtypes: float64(2), object(5)\n",
      "memory usage: 579.6+ MB\n",
      "None\n"
     ]
    }
   ],
   "source": [
    "print(final_reject_df.info())"
   ]
  },
  {
   "cell_type": "code",
   "execution_count": 64,
   "metadata": {},
   "outputs": [
    {
     "name": "stdout",
     "output_type": "stream",
     "text": [
      "<class 'pandas.core.frame.DataFrame'>\n",
      "Int64Index: 453176 entries, 421097 to 1611876\n",
      "Data columns (total 8 columns):\n",
      " #   Column           Non-Null Count   Dtype  \n",
      "---  ------           --------------   -----  \n",
      " 0   loan_amnt        453176 non-null  float64\n",
      " 1   int_rate         453176 non-null  float64\n",
      " 2   fico_range_high  453176 non-null  float64\n",
      " 3   dti              453176 non-null  float64\n",
      " 4   addr_state       453176 non-null  object \n",
      " 5   emp_length       453176 non-null  object \n",
      " 6   purpose          453176 non-null  object \n",
      " 7   Loan Status      453176 non-null  object \n",
      "dtypes: float64(4), object(4)\n",
      "memory usage: 31.1+ MB\n"
     ]
    }
   ],
   "source": [
    "#drop na values in accept df\n",
    "final_accept_df = final_accept_df.dropna()\n",
    "final_accept_df.info()"
   ]
  },
  {
   "cell_type": "code",
   "execution_count": 65,
   "metadata": {},
   "outputs": [
    {
     "name": "stdout",
     "output_type": "stream",
     "text": [
      "<class 'pandas.core.frame.DataFrame'>\n",
      "Int64Index: 628344 entries, 4404458 to 19699073\n",
      "Data columns (total 7 columns):\n",
      " #   Column           Non-Null Count   Dtype  \n",
      "---  ------           --------------   -----  \n",
      " 0   loan_amt         628344 non-null  float64\n",
      " 1   fico_range_high  628344 non-null  float64\n",
      " 2   dti              628344 non-null  object \n",
      " 3   addr_state       628344 non-null  object \n",
      " 4   emp_length       628344 non-null  object \n",
      " 5   purpose          628344 non-null  object \n",
      " 6   Loan Status      628344 non-null  object \n",
      "dtypes: float64(2), object(5)\n",
      "memory usage: 38.4+ MB\n"
     ]
    }
   ],
   "source": [
    "#drop na values in reject df\n",
    "final_reject_df = final_reject_df.dropna()\n",
    "final_reject_df.info()"
   ]
  },
  {
   "cell_type": "code",
   "execution_count": 66,
   "metadata": {},
   "outputs": [],
   "source": [
    "filenames = [final_accept_df, final_reject_df]\n",
    "combined_data = pd.concat(filenames)"
   ]
  },
  {
   "cell_type": "code",
   "execution_count": 67,
   "metadata": {},
   "outputs": [
    {
     "data": {
      "text/html": [
       "<div>\n",
       "<style scoped>\n",
       "    .dataframe tbody tr th:only-of-type {\n",
       "        vertical-align: middle;\n",
       "    }\n",
       "\n",
       "    .dataframe tbody tr th {\n",
       "        vertical-align: top;\n",
       "    }\n",
       "\n",
       "    .dataframe thead th {\n",
       "        text-align: right;\n",
       "    }\n",
       "</style>\n",
       "<table border=\"1\" class=\"dataframe\">\n",
       "  <thead>\n",
       "    <tr style=\"text-align: right;\">\n",
       "      <th></th>\n",
       "      <th>loan_amnt</th>\n",
       "      <th>int_rate</th>\n",
       "      <th>fico_range_high</th>\n",
       "      <th>dti</th>\n",
       "      <th>addr_state</th>\n",
       "      <th>emp_length</th>\n",
       "      <th>purpose</th>\n",
       "      <th>Loan Status</th>\n",
       "      <th>loan_amt</th>\n",
       "    </tr>\n",
       "  </thead>\n",
       "  <tbody>\n",
       "    <tr>\n",
       "      <th>421097</th>\n",
       "      <td>5000.0</td>\n",
       "      <td>20.39</td>\n",
       "      <td>669.0</td>\n",
       "      <td>21.8</td>\n",
       "      <td>OK</td>\n",
       "      <td>8</td>\n",
       "      <td>other</td>\n",
       "      <td>Accepted</td>\n",
       "      <td>NaN</td>\n",
       "    </tr>\n",
       "    <tr>\n",
       "      <th>421098</th>\n",
       "      <td>15000.0</td>\n",
       "      <td>9.92</td>\n",
       "      <td>704.0</td>\n",
       "      <td>18.29</td>\n",
       "      <td>FL</td>\n",
       "      <td>2</td>\n",
       "      <td>debt_consolidation</td>\n",
       "      <td>Accepted</td>\n",
       "      <td>NaN</td>\n",
       "    </tr>\n",
       "    <tr>\n",
       "      <th>421099</th>\n",
       "      <td>11200.0</td>\n",
       "      <td>30.79</td>\n",
       "      <td>669.0</td>\n",
       "      <td>43.97</td>\n",
       "      <td>NH</td>\n",
       "      <td>0</td>\n",
       "      <td>medical</td>\n",
       "      <td>Accepted</td>\n",
       "      <td>NaN</td>\n",
       "    </tr>\n",
       "    <tr>\n",
       "      <th>421100</th>\n",
       "      <td>25000.0</td>\n",
       "      <td>21.85</td>\n",
       "      <td>669.0</td>\n",
       "      <td>12.89</td>\n",
       "      <td>AL</td>\n",
       "      <td>10</td>\n",
       "      <td>debt_consolidation</td>\n",
       "      <td>Accepted</td>\n",
       "      <td>NaN</td>\n",
       "    </tr>\n",
       "    <tr>\n",
       "      <th>421101</th>\n",
       "      <td>3000.0</td>\n",
       "      <td>7.34</td>\n",
       "      <td>764.0</td>\n",
       "      <td>0.58</td>\n",
       "      <td>WA</td>\n",
       "      <td>9</td>\n",
       "      <td>major_purchase</td>\n",
       "      <td>Accepted</td>\n",
       "      <td>NaN</td>\n",
       "    </tr>\n",
       "  </tbody>\n",
       "</table>\n",
       "</div>"
      ],
      "text/plain": [
       "        loan_amnt  int_rate  fico_range_high    dti addr_state emp_length  \\\n",
       "421097     5000.0     20.39            669.0   21.8         OK          8   \n",
       "421098    15000.0      9.92            704.0  18.29         FL          2   \n",
       "421099    11200.0     30.79            669.0  43.97         NH          0   \n",
       "421100    25000.0     21.85            669.0  12.89         AL         10   \n",
       "421101     3000.0      7.34            764.0   0.58         WA          9   \n",
       "\n",
       "                   purpose Loan Status  loan_amt  \n",
       "421097               other    Accepted       NaN  \n",
       "421098  debt_consolidation    Accepted       NaN  \n",
       "421099             medical    Accepted       NaN  \n",
       "421100  debt_consolidation    Accepted       NaN  \n",
       "421101      major_purchase    Accepted       NaN  "
      ]
     },
     "execution_count": 67,
     "metadata": {},
     "output_type": "execute_result"
    }
   ],
   "source": [
    "combined_data.head()"
   ]
  },
  {
   "cell_type": "code",
   "execution_count": 70,
   "metadata": {},
   "outputs": [],
   "source": [
    "combined_data.to_csv('Data/model_1_combine_data.csv')"
   ]
  },
  {
   "cell_type": "code",
   "execution_count": 79,
   "metadata": {},
   "outputs": [
    {
     "data": {
      "text/plain": [
       "(1081520, 9)"
      ]
     },
     "execution_count": 79,
     "metadata": {},
     "output_type": "execute_result"
    }
   ],
   "source": [
    "combined_data.shape"
   ]
  },
  {
   "cell_type": "code",
   "execution_count": 73,
   "metadata": {},
   "outputs": [],
   "source": [
    "accept_filtered_df.to_csv('Data/model_1_accept_data.csv')"
   ]
  },
  {
   "cell_type": "code",
   "execution_count": 74,
   "metadata": {},
   "outputs": [
    {
     "data": {
      "text/html": [
       "<div>\n",
       "<style scoped>\n",
       "    .dataframe tbody tr th:only-of-type {\n",
       "        vertical-align: middle;\n",
       "    }\n",
       "\n",
       "    .dataframe tbody tr th {\n",
       "        vertical-align: top;\n",
       "    }\n",
       "\n",
       "    .dataframe thead th {\n",
       "        text-align: right;\n",
       "    }\n",
       "</style>\n",
       "<table border=\"1\" class=\"dataframe\">\n",
       "  <thead>\n",
       "    <tr style=\"text-align: right;\">\n",
       "      <th></th>\n",
       "      <th>loan_amnt</th>\n",
       "      <th>int_rate</th>\n",
       "      <th>issue_d</th>\n",
       "      <th>fico_range_high</th>\n",
       "      <th>dti</th>\n",
       "      <th>zip_code</th>\n",
       "      <th>addr_state</th>\n",
       "      <th>emp_length</th>\n",
       "      <th>purpose</th>\n",
       "      <th>Loan Status</th>\n",
       "    </tr>\n",
       "  </thead>\n",
       "  <tbody>\n",
       "    <tr>\n",
       "      <th>421097</th>\n",
       "      <td>5000.0</td>\n",
       "      <td>20.39</td>\n",
       "      <td>2018-03-01</td>\n",
       "      <td>669.0</td>\n",
       "      <td>21.80</td>\n",
       "      <td>740xx</td>\n",
       "      <td>OK</td>\n",
       "      <td>8</td>\n",
       "      <td>other</td>\n",
       "      <td>Accepted</td>\n",
       "    </tr>\n",
       "    <tr>\n",
       "      <th>421098</th>\n",
       "      <td>15000.0</td>\n",
       "      <td>9.92</td>\n",
       "      <td>2018-03-01</td>\n",
       "      <td>704.0</td>\n",
       "      <td>18.29</td>\n",
       "      <td>337xx</td>\n",
       "      <td>FL</td>\n",
       "      <td>2</td>\n",
       "      <td>debt_consolidation</td>\n",
       "      <td>Accepted</td>\n",
       "    </tr>\n",
       "    <tr>\n",
       "      <th>421099</th>\n",
       "      <td>11200.0</td>\n",
       "      <td>30.79</td>\n",
       "      <td>2018-03-01</td>\n",
       "      <td>669.0</td>\n",
       "      <td>43.97</td>\n",
       "      <td>030xx</td>\n",
       "      <td>NH</td>\n",
       "      <td>0</td>\n",
       "      <td>medical</td>\n",
       "      <td>Accepted</td>\n",
       "    </tr>\n",
       "    <tr>\n",
       "      <th>421100</th>\n",
       "      <td>25000.0</td>\n",
       "      <td>21.85</td>\n",
       "      <td>2018-03-01</td>\n",
       "      <td>669.0</td>\n",
       "      <td>12.89</td>\n",
       "      <td>361xx</td>\n",
       "      <td>AL</td>\n",
       "      <td>10</td>\n",
       "      <td>debt_consolidation</td>\n",
       "      <td>Accepted</td>\n",
       "    </tr>\n",
       "    <tr>\n",
       "      <th>421101</th>\n",
       "      <td>3000.0</td>\n",
       "      <td>7.34</td>\n",
       "      <td>2018-03-01</td>\n",
       "      <td>764.0</td>\n",
       "      <td>0.58</td>\n",
       "      <td>988xx</td>\n",
       "      <td>WA</td>\n",
       "      <td>9</td>\n",
       "      <td>major_purchase</td>\n",
       "      <td>Accepted</td>\n",
       "    </tr>\n",
       "  </tbody>\n",
       "</table>\n",
       "</div>"
      ],
      "text/plain": [
       "        loan_amnt  int_rate    issue_d  fico_range_high    dti zip_code  \\\n",
       "421097     5000.0     20.39 2018-03-01            669.0  21.80    740xx   \n",
       "421098    15000.0      9.92 2018-03-01            704.0  18.29    337xx   \n",
       "421099    11200.0     30.79 2018-03-01            669.0  43.97    030xx   \n",
       "421100    25000.0     21.85 2018-03-01            669.0  12.89    361xx   \n",
       "421101     3000.0      7.34 2018-03-01            764.0   0.58    988xx   \n",
       "\n",
       "       addr_state emp_length             purpose Loan Status  \n",
       "421097         OK          8               other    Accepted  \n",
       "421098         FL          2  debt_consolidation    Accepted  \n",
       "421099         NH          0             medical    Accepted  \n",
       "421100         AL         10  debt_consolidation    Accepted  \n",
       "421101         WA          9      major_purchase    Accepted  "
      ]
     },
     "execution_count": 74,
     "metadata": {},
     "output_type": "execute_result"
    }
   ],
   "source": [
    "accept_filtered_df.head(5)"
   ]
  },
  {
   "cell_type": "code",
   "execution_count": 75,
   "metadata": {},
   "outputs": [
    {
     "data": {
      "text/plain": [
       "(495242, 10)"
      ]
     },
     "execution_count": 75,
     "metadata": {},
     "output_type": "execute_result"
    }
   ],
   "source": [
    "accept_filtered_df.shape\n"
   ]
  },
  {
   "cell_type": "code",
   "execution_count": 76,
   "metadata": {},
   "outputs": [],
   "source": [
    "reject_filtered_df.to_csv('Data/model_1_reject_data.csv')"
   ]
  },
  {
   "cell_type": "code",
   "execution_count": 77,
   "metadata": {},
   "outputs": [
    {
     "data": {
      "text/html": [
       "<div>\n",
       "<style scoped>\n",
       "    .dataframe tbody tr th:only-of-type {\n",
       "        vertical-align: middle;\n",
       "    }\n",
       "\n",
       "    .dataframe tbody tr th {\n",
       "        vertical-align: top;\n",
       "    }\n",
       "\n",
       "    .dataframe thead th {\n",
       "        text-align: right;\n",
       "    }\n",
       "</style>\n",
       "<table border=\"1\" class=\"dataframe\">\n",
       "  <thead>\n",
       "    <tr style=\"text-align: right;\">\n",
       "      <th></th>\n",
       "      <th>loan_amt</th>\n",
       "      <th>issue_d</th>\n",
       "      <th>fico_range_high</th>\n",
       "      <th>dti</th>\n",
       "      <th>zip_code</th>\n",
       "      <th>addr_state</th>\n",
       "      <th>emp_length</th>\n",
       "      <th>purpose</th>\n",
       "      <th>Loan Status</th>\n",
       "    </tr>\n",
       "  </thead>\n",
       "  <tbody>\n",
       "    <tr>\n",
       "      <th>4404427</th>\n",
       "      <td>3000.0</td>\n",
       "      <td>2018-07-01</td>\n",
       "      <td>NaN</td>\n",
       "      <td>100%</td>\n",
       "      <td>925xx</td>\n",
       "      <td>CA</td>\n",
       "      <td>0</td>\n",
       "      <td>Debt consolidation</td>\n",
       "      <td>Rejected</td>\n",
       "    </tr>\n",
       "    <tr>\n",
       "      <th>4404428</th>\n",
       "      <td>40000.0</td>\n",
       "      <td>2018-07-01</td>\n",
       "      <td>NaN</td>\n",
       "      <td>7.45%</td>\n",
       "      <td>335xx</td>\n",
       "      <td>FL</td>\n",
       "      <td>0</td>\n",
       "      <td>Major purchase</td>\n",
       "      <td>Rejected</td>\n",
       "    </tr>\n",
       "    <tr>\n",
       "      <th>4404429</th>\n",
       "      <td>16000.0</td>\n",
       "      <td>2018-07-01</td>\n",
       "      <td>NaN</td>\n",
       "      <td>34.93%</td>\n",
       "      <td>156xx</td>\n",
       "      <td>PA</td>\n",
       "      <td>0</td>\n",
       "      <td>Debt consolidation</td>\n",
       "      <td>Rejected</td>\n",
       "    </tr>\n",
       "    <tr>\n",
       "      <th>4404430</th>\n",
       "      <td>40000.0</td>\n",
       "      <td>2018-07-01</td>\n",
       "      <td>NaN</td>\n",
       "      <td>27.87%</td>\n",
       "      <td>957xx</td>\n",
       "      <td>CA</td>\n",
       "      <td>0</td>\n",
       "      <td>Debt consolidation</td>\n",
       "      <td>Rejected</td>\n",
       "    </tr>\n",
       "    <tr>\n",
       "      <th>4404431</th>\n",
       "      <td>300000.0</td>\n",
       "      <td>2018-07-01</td>\n",
       "      <td>NaN</td>\n",
       "      <td>-1%</td>\n",
       "      <td>258xx</td>\n",
       "      <td>TN</td>\n",
       "      <td>0</td>\n",
       "      <td>Business Loan</td>\n",
       "      <td>Rejected</td>\n",
       "    </tr>\n",
       "  </tbody>\n",
       "</table>\n",
       "</div>"
      ],
      "text/plain": [
       "         loan_amt    issue_d  fico_range_high     dti zip_code addr_state  \\\n",
       "4404427    3000.0 2018-07-01              NaN    100%    925xx         CA   \n",
       "4404428   40000.0 2018-07-01              NaN   7.45%    335xx         FL   \n",
       "4404429   16000.0 2018-07-01              NaN  34.93%    156xx         PA   \n",
       "4404430   40000.0 2018-07-01              NaN  27.87%    957xx         CA   \n",
       "4404431  300000.0 2018-07-01              NaN     -1%    258xx         TN   \n",
       "\n",
       "        emp_length             purpose Loan Status  \n",
       "4404427          0  Debt consolidation    Rejected  \n",
       "4404428          0      Major purchase    Rejected  \n",
       "4404429          0  Debt consolidation    Rejected  \n",
       "4404430          0  Debt consolidation    Rejected  \n",
       "4404431          0       Business Loan    Rejected  "
      ]
     },
     "execution_count": 77,
     "metadata": {},
     "output_type": "execute_result"
    }
   ],
   "source": [
    "reject_filtered_df.head(5)"
   ]
  },
  {
   "cell_type": "code",
   "execution_count": 78,
   "metadata": {},
   "outputs": [
    {
     "data": {
      "text/plain": [
       "(9496782, 9)"
      ]
     },
     "execution_count": 78,
     "metadata": {},
     "output_type": "execute_result"
    }
   ],
   "source": [
    "reject_filtered_df.shape"
   ]
  },
  {
   "cell_type": "code",
   "execution_count": null,
   "metadata": {},
   "outputs": [],
   "source": [
    "!pip install sklearn --upgrade"
   ]
  },
  {
   "cell_type": "code",
   "execution_count": null,
   "metadata": {},
   "outputs": [],
   "source": []
  }
 ],
 "metadata": {
  "kernelspec": {
   "display_name": "Python 3",
   "language": "python",
   "name": "python3"
  },
  "language_info": {
   "codemirror_mode": {
    "name": "ipython",
    "version": 3
   },
   "file_extension": ".py",
   "mimetype": "text/x-python",
   "name": "python",
   "nbconvert_exporter": "python",
   "pygments_lexer": "ipython3",
   "version": "3.8.5"
  }
 },
 "nbformat": 4,
 "nbformat_minor": 4
}
